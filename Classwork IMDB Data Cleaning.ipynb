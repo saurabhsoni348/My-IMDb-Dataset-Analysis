{
 "cells": [
  {
   "cell_type": "code",
   "execution_count": 2,
   "id": "d99378f0-304f-4b59-9859-892a8a97d53d",
   "metadata": {},
   "outputs": [],
   "source": [
    "import pandas as pd\n",
    "\n",
    "data = {\n",
    "    \"Movie Title\": [\"Movie1\", \"Movie2\", \"Movie3\", \"Movie4\"],\n",
    "    \"Release Year\": [2020, 2019, 2018, 2021],\n",
    "    \"Profit\": [1000000, 2000000, 1500000, 500000],\n",
    "    \"Producers\": [\"Producer1\", \"Producer2\", \"Producer1\", \"Producer3\"],\n",
    "    \"Directors\": [\"Director1\", \"Director2\", \"Director1\", \"Director3\"],\n",
    "    \"Actors\": [\"Actor1, Actor2\", \"Actor2, Actor3\", \"Actor1, Actor3\", \"Actor4, Actor5\"],\n",
    "    \"Language\": [\"English\", \"Spanish\", \"French\", \"English\"],\n",
    "    \"Genres\": [\"Action, Thriller\", \"Drama\", \"Comedy\", \"Horror\"],\n",
    "    \"Budget\": [500000, 700000, 600000, 300000],\n",
    "    \"Box Office\": [1500000, 2700000, 2100000, 800000]\n",
    "}\n",
    "\n",
    "imdb_df = pd.DataFrame(data)\n",
    "imdb_df.to_csv(\"imdb_dataset.csv\", index=False)\n"
   ]
  },
  {
   "cell_type": "code",
   "execution_count": 3,
   "id": "b2ece589-1494-45fd-a2a8-dcc0116cda87",
   "metadata": {},
   "outputs": [
    {
     "name": "stdout",
     "output_type": "stream",
     "text": [
      "<class 'pandas.core.frame.DataFrame'>\n",
      "RangeIndex: 4 entries, 0 to 3\n",
      "Data columns (total 10 columns):\n",
      " #   Column        Non-Null Count  Dtype \n",
      "---  ------        --------------  ----- \n",
      " 0   Movie Title   4 non-null      object\n",
      " 1   Release Year  4 non-null      int64 \n",
      " 2   Profit        4 non-null      int64 \n",
      " 3   Producers     4 non-null      object\n",
      " 4   Directors     4 non-null      object\n",
      " 5   Actors        4 non-null      object\n",
      " 6   Language      4 non-null      object\n",
      " 7   Genres        4 non-null      object\n",
      " 8   Budget        4 non-null      int64 \n",
      " 9   Box Office    4 non-null      int64 \n",
      "dtypes: int64(4), object(6)\n",
      "memory usage: 452.0+ bytes\n",
      "None\n",
      "  Movie Title  Release Year   Profit  Producers  Directors          Actors  \\\n",
      "0      Movie1          2020  1000000  Producer1  Director1  Actor1, Actor2   \n",
      "1      Movie2          2019  2000000  Producer2  Director2  Actor2, Actor3   \n",
      "2      Movie3          2018  1500000  Producer1  Director1  Actor1, Actor3   \n",
      "3      Movie4          2021   500000  Producer3  Director3  Actor4, Actor5   \n",
      "\n",
      "  Language            Genres  Budget  Box Office  \n",
      "0  English  Action, Thriller  500000     1500000  \n",
      "1  Spanish             Drama  700000     2700000  \n",
      "2   French            Comedy  600000     2100000  \n",
      "3  English            Horror  300000      800000  \n"
     ]
    }
   ],
   "source": [
    "import pandas as pd\n",
    "\n",
    "imdb_df = pd.read_csv(\"imdb_dataset.csv\")\n",
    "\n",
    "print(imdb_df.info())\n",
    "print(imdb_df.head())\n"
   ]
  },
  {
   "cell_type": "code",
   "execution_count": 4,
   "id": "5cb64f7d-2f8f-48f5-b962-32fdf9c7b69f",
   "metadata": {},
   "outputs": [
    {
     "name": "stdout",
     "output_type": "stream",
     "text": [
      "Movie with the highest profit: Movie2\n",
      "Producer(s): Producer2\n",
      "Director(s): Director2\n",
      "Actors: Actor2, Actor3\n"
     ]
    }
   ],
   "source": [
    "highest_profit_movie = imdb_df.loc[imdb_df['Profit'].idxmax()]\n",
    "print(f\"Movie with the highest profit: {highest_profit_movie['Movie Title']}\")\n",
    "print(f\"Producer(s): {highest_profit_movie['Producers']}\")\n",
    "print(f\"Director(s): {highest_profit_movie['Directors']}\")\n",
    "print(f\"Actors: {highest_profit_movie['Actors']}\")\n"
   ]
  },
  {
   "cell_type": "code",
   "execution_count": 5,
   "id": "b80e786f-7331-4f92-8487-08f45bbf544e",
   "metadata": {},
   "outputs": [
    {
     "name": "stdout",
     "output_type": "stream",
     "text": [
      "Language with the highest average ROI: Spanish\n"
     ]
    }
   ],
   "source": [
    "imdb_df['ROI'] = (imdb_df['Profit'] / imdb_df['Budget']) * 100\n",
    "highest_avg_roi_language = imdb_df.groupby('Language')['ROI'].mean().idxmax()\n",
    "print(f\"Language with the highest average ROI: {highest_avg_roi_language}\")\n"
   ]
  },
  {
   "cell_type": "code",
   "execution_count": 6,
   "id": "9599895e-285d-4611-806c-82b4bea2af7f",
   "metadata": {},
   "outputs": [
    {
     "name": "stdout",
     "output_type": "stream",
     "text": [
      "Unique genres: {'Thriller', 'Comedy', 'Action', 'Drama', 'Horror'}\n"
     ]
    }
   ],
   "source": [
    "unique_genres = set()\n",
    "imdb_df['Genres'].str.split(', ').apply(unique_genres.update)\n",
    "print(f\"Unique genres: {unique_genres}\")\n"
   ]
  },
  {
   "cell_type": "code",
   "execution_count": 7,
   "id": "74452b14-e98f-4da8-9f05-54ef61559580",
   "metadata": {},
   "outputs": [
    {
     "name": "stdout",
     "output_type": "stream",
     "text": [
      "  Movie Title  Producers  Directors\n",
      "0      Movie1  Producer1  Director1\n",
      "1      Movie2  Producer2  Director2\n",
      "2      Movie3  Producer1  Director1\n",
      "3      Movie4  Producer3  Director3\n",
      "Top 3 producers with highest average ROI: ['Producer2', 'Producer1', 'Producer3']\n"
     ]
    }
   ],
   "source": [
    "producers_directors_df = imdb_df[['Movie Title', 'Producers', 'Directors']]\n",
    "print(producers_directors_df)\n",
    "\n",
    "top_3_producers = imdb_df.groupby('Producers')['ROI'].mean().sort_values(ascending=False).head(3)\n",
    "print(f\"Top 3 producers with highest average ROI: {top_3_producers.index.tolist()}\")\n"
   ]
  },
  {
   "cell_type": "code",
   "execution_count": 8,
   "id": "498e8112-7d4a-459f-8ac5-7a86d16da8b8",
   "metadata": {},
   "outputs": [
    {
     "name": "stdout",
     "output_type": "stream",
     "text": [
      "Actor with the most number of movies: Actor1\n",
      "Movies with Actor1: ['Movie1', 'Movie3']\n",
      "Genres: ['Action, Thriller', 'Comedy']\n",
      "Profits: [1000000, 1500000]\n"
     ]
    }
   ],
   "source": [
    "from collections import Counter\n",
    "\n",
    "actor_counts = Counter()\n",
    "imdb_df['Actors'].str.split(', ').apply(actor_counts.update)\n",
    "most_frequent_actor = actor_counts.most_common(1)[0][0]\n",
    "print(f\"Actor with the most number of movies: {most_frequent_actor}\")\n",
    "\n",
    "# Deep dive into the movies, genres, and profits for this actor\n",
    "actor_movies = imdb_df[imdb_df['Actors'].str.contains(most_frequent_actor)]\n",
    "print(f\"Movies with {most_frequent_actor}: {actor_movies['Movie Title'].tolist()}\")\n",
    "print(f\"Genres: {actor_movies['Genres'].tolist()}\")\n",
    "print(f\"Profits: {actor_movies['Profit'].tolist()}\")\n"
   ]
  },
  {
   "cell_type": "code",
   "execution_count": null,
   "id": "ff8910c1-511c-40b0-b328-88ba043a707c",
   "metadata": {},
   "outputs": [],
   "source": []
  }
 ],
 "metadata": {
  "kernelspec": {
   "display_name": "Python 3 (ipykernel)",
   "language": "python",
   "name": "python3"
  },
  "language_info": {
   "codemirror_mode": {
    "name": "ipython",
    "version": 3
   },
   "file_extension": ".py",
   "mimetype": "text/x-python",
   "name": "python",
   "nbconvert_exporter": "python",
   "pygments_lexer": "ipython3",
   "version": "3.12.4"
  }
 },
 "nbformat": 4,
 "nbformat_minor": 5
}
